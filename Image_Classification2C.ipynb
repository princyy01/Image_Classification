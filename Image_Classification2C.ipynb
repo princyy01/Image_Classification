{
  "nbformat": 4,
  "nbformat_minor": 0,
  "metadata": {
    "colab": {
      "provenance": []
    },
    "kernelspec": {
      "name": "python3",
      "display_name": "Python 3"
    },
    "language_info": {
      "name": "python"
    },
    "accelerator": "GPU",
    "gpuClass": "standard"
  },
  "cells": [
    {
      "cell_type": "code",
      "source": [
        "import torch\n",
        "cuda=torch.cuda.is_available()\n",
        "print(cuda)"
      ],
      "metadata": {
        "id": "zYyQGTjH40rD"
      },
      "execution_count": null,
      "outputs": []
    },
    {
      "cell_type": "code",
      "execution_count": null,
      "metadata": {
        "id": "96FR3-n94XKv"
      },
      "outputs": [],
      "source": [
        "import os\n",
        "import torch\n",
        "import torch\n",
        "import tarfile\n",
        "from torchvision.datasets.utils import download_url\n",
        "from torch.utils.data import random_split"
      ]
    },
    {
      "cell_type": "code",
      "source": [
        "# Dowload the dataset\n",
        "dataset_url = \"https://s3.amazonaws.com/fast-ai-imageclas/cifar10.tgz\"\n",
        "download_url(dataset_url, '.')"
      ],
      "metadata": {
        "id": "TTqwqAIe6IP3"
      },
      "execution_count": null,
      "outputs": []
    },
    {
      "cell_type": "code",
      "source": [
        "with tarfile.open('./cifar10.tgz', 'r:gz') as tar:\n",
        "    tar.extractall(path='./data')"
      ],
      "metadata": {
        "id": "X9YnsSIZ9oJP"
      },
      "execution_count": null,
      "outputs": []
    },
    {
      "cell_type": "code",
      "source": [
        "data_dir = './data/cifar10'\n",
        "\n",
        "print(os.listdir(data_dir))\n",
        "classes = os.listdir(data_dir + \"/train\")\n",
        "print(classes)"
      ],
      "metadata": {
        "id": "n8jdyF3kQtlf"
      },
      "execution_count": null,
      "outputs": []
    },
    {
      "cell_type": "code",
      "source": [
        "from torchvision.datasets import ImageFolder\n",
        "from torchvision.transforms import ToTensor"
      ],
      "metadata": {
        "id": "gYJMhGo8PU8b"
      },
      "execution_count": null,
      "outputs": []
    },
    {
      "cell_type": "code",
      "source": [
        "dataset = ImageFolder(data_dir+'/train',transform=ToTensor())"
      ],
      "metadata": {
        "id": "f-kwD5pMQLwW"
      },
      "execution_count": null,
      "outputs": []
    },
    {
      "cell_type": "code",
      "source": [
        "import matplotlib\n",
        "import matplotlib.pyplot as plt\n",
        "%matplotlib inline\n",
        "\n",
        "matplotlib.rcParams['figure.facecolor']='#ffffff'"
      ],
      "metadata": {
        "id": "hkIJTB6YQ82B"
      },
      "execution_count": null,
      "outputs": []
    },
    {
      "cell_type": "code",
      "source": [
        "def show_example(img,label):\n",
        "  print('Label :',dataset.classes[label],\"(\"+str(label)+\")\")\n",
        "  plt.imshow(img.permute(1,2,0))"
      ],
      "metadata": {
        "id": "J2RFUplIRitJ"
      },
      "execution_count": null,
      "outputs": []
    },
    {
      "cell_type": "code",
      "source": [
        "show_example(*dataset[0])"
      ],
      "metadata": {
        "id": "51CrDrf3R6gE"
      },
      "execution_count": null,
      "outputs": []
    },
    {
      "cell_type": "code",
      "source": [
        "random_seed=42\n",
        "torch.manual_seed(random_seed);\n",
        "val_size=5000\n",
        "train_size=len(dataset)-val_size\n",
        "train_ds,val_ds=random_split(dataset,[train_size,val_size])"
      ],
      "metadata": {
        "id": "ud_ccE-odnJF"
      },
      "execution_count": null,
      "outputs": []
    },
    {
      "cell_type": "code",
      "source": [
        "from torch.utils.data.dataloader import DataLoader\n",
        "batchsize=128"
      ],
      "metadata": {
        "id": "65IdSbUseDMs"
      },
      "execution_count": null,
      "outputs": []
    },
    {
      "cell_type": "code",
      "source": [
        "training_dl=DataLoader(train_ds,batchsize,shuffle=True,num_workers=2,pin_memory=True)\n",
        "val_dl=DataLoader(val_ds,batchsize*2,num_workers=2,pin_memory=True)"
      ],
      "metadata": {
        "id": "8BdPfx9WeSaZ"
      },
      "execution_count": null,
      "outputs": []
    },
    {
      "cell_type": "code",
      "source": [
        "from torchvision.utils import make_grid\n",
        "def show_data(dl):\n",
        "  for images,labels in dl:\n",
        "    fig,ax=plt.subplots(figsize=(12,6))\n",
        "    ax.set_xticks([]);ax.set_yticks([])\n",
        "    ax.imshow(make_grid(images,nrow=16).permute(1,2,0))\n",
        "    break"
      ],
      "metadata": {
        "id": "lxpNtL7CfLUf"
      },
      "execution_count": null,
      "outputs": []
    },
    {
      "cell_type": "code",
      "source": [
        "show_data(training_dl)"
      ],
      "metadata": {
        "id": "jhdW2-R9gjU2"
      },
      "execution_count": null,
      "outputs": []
    },
    {
      "cell_type": "code",
      "source": [
        "import torch.nn as nn\n",
        "import torch.nn.functional as F"
      ],
      "metadata": {
        "id": "kBAPcYbgiDKf"
      },
      "execution_count": null,
      "outputs": []
    },
    {
      "cell_type": "code",
      "source": [
        "class ImageClassificationBase(nn.Module):\n",
        "  def training_step(self,batch):\n",
        "    images,labels=batch\n",
        "    out=self(images)\n",
        "    loss=F.cross_entropy(out,labels)\n",
        "    return loss\n",
        "  def validation_step(self,batch):\n",
        "    images,labels=batch\n",
        "    out=self(images)\n",
        "    loss=F.cross_entropy(out,labels)\n",
        "    acc=accuracy(out,labels)\n",
        "    return{'val_loss':loss.detach(),'val_acc':acc}\n",
        "  def validation_epoch_end(self,outputs):\n",
        "    batch_losses=[x['val_loss'] for x in outputs]\n",
        "    epoch_loss=torch.stack(batch_losses).mean()\n",
        "    batch_acc=[x['val_acc'] for x in outputs]\n",
        "    epoch_acc=torch.stack(batch_acc).mean()\n",
        "    return{'val_loss':epoch_loss.item(),'val_acc':epoch_acc.item()}\n",
        "  def epoch_end(self,epoch,result):\n",
        "    print(\"Epoch[{}],train_loss:{:.4f},val_loss:{:.4f},val_acc:{:.4f}\".format(epoch,result['train_loss'],result['val_loss'],result['val_acc']))\n",
        "def accuracy(outputs,labels):\n",
        "  _,preds=torch.max(outputs,dim=1)\n",
        "  return torch.tensor(torch.sum(preds==labels).item()/len(preds))\n"
      ],
      "metadata": {
        "id": "JTPy55nPgx4Q"
      },
      "execution_count": null,
      "outputs": []
    },
    {
      "cell_type": "code",
      "source": [
        "import torchvision.models as model\n",
        "class cifar10cnnModel(ImageClassificationBase):\n",
        "  def __init__(self):\n",
        "    super().__init__()\n",
        "    self.model = model.resnet50(pretrained=True)\n",
        "    num_ftrs = self.model.fc.in_features\n",
        "    self.model.fc = nn.Linear(num_ftrs, len(dataset.classes))\n",
        "\n",
        "  def forward(self,xb):\n",
        "    return self.model(xb)"
      ],
      "metadata": {
        "id": "tJDtD83oiB2R"
      },
      "execution_count": null,
      "outputs": []
    },
    {
      "cell_type": "code",
      "source": [
        "model = cifar10cnnModel()\n",
        "model"
      ],
      "metadata": {
        "id": "IhyZ2FzUm1Ak"
      },
      "execution_count": null,
      "outputs": []
    },
    {
      "cell_type": "code",
      "source": [
        "for images, labels in training_dl:\n",
        "  print('images.shape:', images.shape)\n",
        "  out = model(images)\n",
        "  print('out.shape:',out.shape)\n",
        "  print('out[0]:' , out[0])\n",
        "  break"
      ],
      "metadata": {
        "id": "nrbJpcri0fjD"
      },
      "execution_count": null,
      "outputs": []
    },
    {
      "cell_type": "code",
      "source": [
        "def get_default_device():\n",
        "  if torch.cuda.is_available():\n",
        "    return torch.device('cuda')\n",
        "  else:\n",
        "    return torch.device('cpu')\n",
        "def to_device(data,device):\n",
        "  if isinstance(data,(list,tuple)):\n",
        "    return [to_device(x,device) for x in data]\n",
        "  return data.to(device,non_blocking=True)\n",
        "\n",
        "class DeviceDataLoader():\n",
        "  def __init__(self,dl,device):\n",
        "    self.dl=dl\n",
        "    self.device=device\n",
        "\n",
        "  def __iter__(self):\n",
        "    for b in self.dl:\n",
        "      yield to_device(b,self.device)\n",
        "\n",
        "  def __len__(self):\n",
        "    return len(self.dl)"
      ],
      "metadata": {
        "id": "r9uOk5Y_zep2"
      },
      "execution_count": null,
      "outputs": []
    },
    {
      "cell_type": "code",
      "source": [
        "device=get_default_device()\n",
        "device"
      ],
      "metadata": {
        "id": "AxH0XypB4dWa"
      },
      "execution_count": null,
      "outputs": []
    },
    {
      "cell_type": "code",
      "source": [
        "train_dl = DeviceDataLoader(training_dl,device)\n",
        "val_dl = DeviceDataLoader(val_dl,device)\n",
        "to_device(model, device);"
      ],
      "metadata": {
        "id": "hUIN40D548Ew"
      },
      "execution_count": null,
      "outputs": []
    },
    {
      "cell_type": "code",
      "source": [
        "@torch.no_grad()\n",
        "def evaluate(model,val_loader):\n",
        "  model.eval()\n",
        "  outputs=[model.validation_step(batch) for batch in val_loader]\n",
        "  return model.validation_epoch_end(outputs)\n",
        "def fit(epochs,lr,model,train_loader,val_loader,opt_func=torch.optim.SGD):\n",
        "  history = []\n",
        "  optimizer  = opt_func(model.parameters(), lr)\n",
        "  for epoch in range(epochs):\n",
        "    #training phase\n",
        "    model. train()\n",
        "    train_losses = []\n",
        "    for batch in train_loader:\n",
        "      loss = model. training_step(batch)\n",
        "      train_losses. append(loss)\n",
        "      loss.backward()\n",
        "      optimizer.step()\n",
        "      optimizer.zero_grad()\n",
        "    result = evaluate (model, val_loader)\n",
        "    result['train_loss'] = torch.stack(train_losses).mean().item()\n",
        "    model. epoch_end(epoch, result)\n",
        "    history.append(result)\n",
        "  return history"
      ],
      "metadata": {
        "id": "vOw4qDR25TIW"
      },
      "execution_count": null,
      "outputs": []
    },
    {
      "cell_type": "code",
      "source": [
        "model = to_device(cifar10cnnModel(), device)"
      ],
      "metadata": {
        "id": "kjkdhyRC89wb"
      },
      "execution_count": null,
      "outputs": []
    },
    {
      "cell_type": "code",
      "source": [
        "evaluate(model,val_dl)"
      ],
      "metadata": {
        "id": "ExH-ZoX79TSj"
      },
      "execution_count": null,
      "outputs": []
    },
    {
      "cell_type": "code",
      "source": [
        "num_epochs = 10\n",
        "opt_func = torch.optim.SGD\n",
        "lr = 0.0001"
      ],
      "metadata": {
        "id": "9bzUBh3f9ZF-"
      },
      "execution_count": null,
      "outputs": []
    },
    {
      "cell_type": "code",
      "source": [
        "history=fit(num_epochs, lr, model, train_dl, val_dl, opt_func)"
      ],
      "metadata": {
        "id": "dHESsJbm-ccu"
      },
      "execution_count": null,
      "outputs": []
    },
    {
      "cell_type": "code",
      "source": [
        "test_dataset = ImageFolder(data_dir+'/test',transform=ToTensor())"
      ],
      "metadata": {
        "id": "PJTGZV5PIO7-"
      },
      "execution_count": null,
      "outputs": []
    },
    {
      "cell_type": "code",
      "source": [
        "def predict_image(img, model):\n",
        "    xb = to_device(img. unsqueeze(0), device)\n",
        "    yb = model(xb)\n",
        "    _,preds = torch.max(yb, dim=1)\n",
        "    return dataset. classes [preds[0].item()]"
      ],
      "metadata": {
        "id": "0U5SbyUEI-K-"
      },
      "execution_count": null,
      "outputs": []
    },
    {
      "cell_type": "code",
      "source": [
        "img , label = test_dataset[123]\n",
        "plt.imshow(img.permute(1,2,0))\n",
        "print('Label :', dataset.classes[label], ',Predicted :', predict_image(img,model))"
      ],
      "metadata": {
        "id": "SVgfK6EWJX2B"
      },
      "execution_count": null,
      "outputs": []
    },
    {
      "cell_type": "code",
      "source": [
        "img , label = test_dataset[5614]\n",
        "plt.imshow(img.permute(1,2,0))\n",
        "print('Label :', dataset.classes[label], ',Predicted :', predict_image(img,model))"
      ],
      "metadata": {
        "id": "qR13q0QuSQhv"
      },
      "execution_count": null,
      "outputs": []
    },
    {
      "cell_type": "code",
      "source": [
        "dataset.classes"
      ],
      "metadata": {
        "id": "YkJEa9BwXA5U"
      },
      "execution_count": null,
      "outputs": []
    }
  ]
}